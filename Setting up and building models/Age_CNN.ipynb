{
 "cells": [
  {
   "cell_type": "code",
   "execution_count": 5,
   "metadata": {},
   "outputs": [],
   "source": [
    "from tensorflow.python.keras.preprocessing.image import ImageDataGenerator\n",
    "from tensorflow.python.keras.models import Sequential\n",
    "from tensorflow.python.keras.layers import Conv2D, MaxPooling2D\n",
    "from tensorflow.python.keras.layers import Activation, Dropout, Flatten, Dense, BatchNormalization"
   ]
  },
  {
   "cell_type": "code",
   "execution_count": 6,
   "metadata": {},
   "outputs": [],
   "source": [
    "train_dir = 'train_age' # директория с данными для обучения\n",
    "valid_dir = 'valid_age' # директория с данными для проверки\n",
    "test_dir = 'test_age' # директория с данными для тестирования\n",
    "# Размеры изображения\n",
    "img_width, img_height = 150, 150\n",
    "# Размерность тензора на основе изображения для входных данных в нейронную сеть\n",
    "input_shape = (img_width, img_height, 3)\n",
    "epochs = 30 # количество эпох\n",
    "# Размер мини-выборки\n",
    "batch_size = 16\n",
    "# Количество изображений для обучения\n",
    "images_number_train = 2316\n",
    "# Количество изображений для проверки\n",
    "images_number_valid = 498\n",
    "# Количество изображений для тестирования\n",
    "images_number_test = 495"
   ]
  },
  {
   "cell_type": "code",
   "execution_count": 25,
   "metadata": {},
   "outputs": [],
   "source": [
    "#This rl\n",
    "'''\n",
    "age_model = Sequential()\n",
    "\n",
    "age_model.add(Conv2D(32, (3, 3), input_shape=input_shape))\n",
    "age_model.add(BatchNormalization())\n",
    "age_model.add(Activation('relu'))\n",
    "age_model.add(MaxPooling2D(pool_size=(2, 2)))\n",
    "\n",
    "age_model.add(Conv2D(64, (3, 3)))\n",
    "age_model.add(BatchNormalization())\n",
    "age_model.add(Activation('relu'))\n",
    "age_model.add(MaxPooling2D(pool_size=(2, 2)))\n",
    "age_model.add(Dropout(0.2))\n",
    "\n",
    "age_model.add(Conv2D(128, (3, 3)))\n",
    "age_model.add(BatchNormalization())\n",
    "age_model.add(Activation('relu'))\n",
    "age_model.add(MaxPooling2D(pool_size=(2, 2)))\n",
    "age_model.add(Dropout(0.2))\n",
    "\n",
    "age_model.add(Flatten())\n",
    "age_model.add(Dense(128))\n",
    "age_model.add(BatchNormalization())\n",
    "age_model.add(Activation('relu'))\n",
    "age_model.add(Dropout(0.5))\n",
    "age_model.add(Dense(3))\n",
    "age_model.add(Activation('softmax'))\n",
    "'''"
   ]
  },
  {
   "cell_type": "code",
   "execution_count": 60,
   "metadata": {},
   "outputs": [],
   "source": [
    "# Архитектура модели определения возрастной категории\n",
    "age_model = Sequential()\n",
    "\n",
    "age_model.add(Conv2D(32, (3, 3), input_shape=input_shape))\n",
    "age_model.add(Activation('relu'))\n",
    "age_model.add(BatchNormalization())\n",
    "age_model.add(MaxPooling2D(pool_size=(2, 2)))\n",
    "\n",
    "age_model.add(Conv2D(32, (3, 3)))\n",
    "age_model.add(Activation('relu'))\n",
    "age_model.add(MaxPooling2D(pool_size=(2, 2)))\n",
    "\n",
    "age_model.add(Conv2D(64, (3, 3)))\n",
    "age_model.add(Activation('relu'))\n",
    "age_model.add(MaxPooling2D(pool_size=(2, 2)))\n",
    "\n",
    "age_model.add(Flatten())\n",
    "age_model.add(Dense(64))\n",
    "age_model.add(Activation('relu'))\n",
    "age_model.add(Dropout(0.5))\n",
    "age_model.add(Dense(3))\n",
    "age_model.add(Activation('softmax'))"
   ]
  },
  {
   "cell_type": "code",
   "execution_count": 61,
   "metadata": {},
   "outputs": [],
   "source": [
    "\n",
    "age_model.compile(loss='categorical_crossentropy',\n",
    "              optimizer='SGD',\n",
    "              metrics=['accuracy'])"
   ]
  },
  {
   "cell_type": "code",
   "execution_count": 7,
   "metadata": {},
   "outputs": [],
   "source": [
    "datagen = ImageDataGenerator(rescale=1. / 255)"
   ]
  },
  {
   "cell_type": "code",
   "execution_count": 8,
   "metadata": {},
   "outputs": [
    {
     "name": "stdout",
     "output_type": "stream",
     "text": [
      "Found 2316 images belonging to 3 classes.\n"
     ]
    }
   ],
   "source": [
    "train_generator = datagen.flow_from_directory(\n",
    "    train_dir,\n",
    "    target_size=(img_width, img_height),\n",
    "    batch_size=batch_size,\n",
    "    class_mode='categorical')"
   ]
  },
  {
   "cell_type": "code",
   "execution_count": 9,
   "metadata": {},
   "outputs": [
    {
     "name": "stdout",
     "output_type": "stream",
     "text": [
      "Found 498 images belonging to 3 classes.\n"
     ]
    }
   ],
   "source": [
    "valid_generator = datagen.flow_from_directory(\n",
    "    valid_dir,\n",
    "    target_size=(img_width, img_height),\n",
    "    batch_size=batch_size,\n",
    "    class_mode='categorical')"
   ]
  },
  {
   "cell_type": "code",
   "execution_count": 10,
   "metadata": {},
   "outputs": [
    {
     "name": "stdout",
     "output_type": "stream",
     "text": [
      "Found 495 images belonging to 3 classes.\n"
     ]
    }
   ],
   "source": [
    "test_generator = datagen.flow_from_directory(\n",
    "    test_dir,\n",
    "    target_size=(img_width, img_height),\n",
    "    batch_size=batch_size,\n",
    "    class_mode='categorical')"
   ]
  },
  {
   "cell_type": "code",
   "execution_count": 66,
   "metadata": {},
   "outputs": [
    {
     "name": "stdout",
     "output_type": "stream",
     "text": [
      "WARNING:tensorflow:sample_weight modes were coerced from\n",
      "  ...\n",
      "    to  \n",
      "  ['...']\n",
      "WARNING:tensorflow:sample_weight modes were coerced from\n",
      "  ...\n",
      "    to  \n",
      "  ['...']\n",
      "Train for 144 steps, validate for 31 steps\n",
      "Epoch 1/30\n",
      "144/144 [==============================] - 156s 1s/step - loss: 0.9381 - accuracy: 0.5391 - val_loss: 1.0011 - val_accuracy: 0.5403\n",
      "Epoch 2/30\n",
      "144/144 [==============================] - 359s 2s/step - loss: 0.6368 - accuracy: 0.7300 - val_loss: 0.7972 - val_accuracy: 0.7581\n",
      "Epoch 3/30\n",
      "144/144 [==============================] - 164s 1s/step - loss: 0.5080 - accuracy: 0.7957 - val_loss: 0.6054 - val_accuracy: 0.7641\n",
      "Epoch 4/30\n",
      "144/144 [==============================] - 166s 1s/step - loss: 0.4089 - accuracy: 0.8330 - val_loss: 0.4054 - val_accuracy: 0.8407\n",
      "Epoch 5/30\n",
      "144/144 [==============================] - 164s 1s/step - loss: 0.3414 - accuracy: 0.8713 - val_loss: 0.3849 - val_accuracy: 0.8286\n",
      "Epoch 6/30\n",
      "144/144 [==============================] - 160s 1s/step - loss: 0.3037 - accuracy: 0.8817 - val_loss: 0.3129 - val_accuracy: 0.8790\n",
      "Epoch 7/30\n",
      "144/144 [==============================] - 164s 1s/step - loss: 0.2605 - accuracy: 0.9078 - val_loss: 0.3868 - val_accuracy: 0.8528\n",
      "Epoch 8/30\n",
      "144/144 [==============================] - 165s 1s/step - loss: 0.2454 - accuracy: 0.9070 - val_loss: 0.3166 - val_accuracy: 0.8589\n",
      "Epoch 9/30\n",
      "144/144 [==============================] - 164s 1s/step - loss: 0.1992 - accuracy: 0.9235 - val_loss: 0.2534 - val_accuracy: 0.8972\n",
      "Epoch 10/30\n",
      "144/144 [==============================] - 165s 1s/step - loss: 0.1645 - accuracy: 0.9387 - val_loss: 0.2971 - val_accuracy: 0.8750\n",
      "Epoch 11/30\n",
      "144/144 [==============================] - 157s 1s/step - loss: 0.1485 - accuracy: 0.9465 - val_loss: 0.5102 - val_accuracy: 0.8044\n",
      "Epoch 12/30\n",
      "144/144 [==============================] - 159s 1s/step - loss: 0.1302 - accuracy: 0.9539 - val_loss: 0.2279 - val_accuracy: 0.9133\n",
      "Epoch 13/30\n",
      "144/144 [==============================] - 162s 1s/step - loss: 0.1098 - accuracy: 0.9609 - val_loss: 0.3129 - val_accuracy: 0.8911\n",
      "Epoch 14/30\n",
      "144/144 [==============================] - 153s 1s/step - loss: 0.0898 - accuracy: 0.9665 - val_loss: 0.2917 - val_accuracy: 0.8972\n",
      "Epoch 15/30\n",
      "144/144 [==============================] - 156s 1s/step - loss: 0.0896 - accuracy: 0.9691 - val_loss: 0.4361 - val_accuracy: 0.8548\n",
      "Epoch 16/30\n",
      "144/144 [==============================] - 159s 1s/step - loss: 0.0818 - accuracy: 0.9717 - val_loss: 0.5032 - val_accuracy: 0.8488\n",
      "Epoch 17/30\n",
      "144/144 [==============================] - 158s 1s/step - loss: 0.0568 - accuracy: 0.9813 - val_loss: 0.3103 - val_accuracy: 0.8911\n",
      "Epoch 18/30\n",
      "144/144 [==============================] - 158s 1s/step - loss: 0.0555 - accuracy: 0.9796 - val_loss: 0.2645 - val_accuracy: 0.9073\n",
      "Epoch 19/30\n",
      "144/144 [==============================] - 163s 1s/step - loss: 0.0502 - accuracy: 0.9861 - val_loss: 0.5835 - val_accuracy: 0.8347\n",
      "Epoch 20/30\n",
      "144/144 [==============================] - 165s 1s/step - loss: 0.0404 - accuracy: 0.9883 - val_loss: 0.2931 - val_accuracy: 0.9073\n",
      "Epoch 21/30\n",
      "144/144 [==============================] - 159s 1s/step - loss: 0.0408 - accuracy: 0.9857 - val_loss: 0.2895 - val_accuracy: 0.9012\n",
      "Epoch 22/30\n",
      "144/144 [==============================] - 156s 1s/step - loss: 0.0323 - accuracy: 0.9913 - val_loss: 0.3469 - val_accuracy: 0.8931\n",
      "Epoch 23/30\n",
      "144/144 [==============================] - 158s 1s/step - loss: 0.0383 - accuracy: 0.9870 - val_loss: 0.3430 - val_accuracy: 0.9073\n",
      "Epoch 24/30\n",
      "144/144 [==============================] - 157s 1s/step - loss: 0.0382 - accuracy: 0.9848 - val_loss: 0.3789 - val_accuracy: 0.9073\n",
      "Epoch 25/30\n",
      "144/144 [==============================] - 159s 1s/step - loss: 0.0242 - accuracy: 0.9922 - val_loss: 0.5760 - val_accuracy: 0.8750\n",
      "Epoch 26/30\n",
      "144/144 [==============================] - 157s 1s/step - loss: 0.0329 - accuracy: 0.9891 - val_loss: 0.7521 - val_accuracy: 0.8367\n",
      "Epoch 27/30\n",
      "144/144 [==============================] - 155s 1s/step - loss: 0.0315 - accuracy: 0.9900 - val_loss: 0.5460 - val_accuracy: 0.8891\n",
      "Epoch 28/30\n",
      "144/144 [==============================] - 155s 1s/step - loss: 0.0262 - accuracy: 0.9922 - val_loss: 0.5368 - val_accuracy: 0.8851\n",
      "Epoch 29/30\n",
      "144/144 [==============================] - 155s 1s/step - loss: 0.0221 - accuracy: 0.9935 - val_loss: 0.4609 - val_accuracy: 0.8992\n",
      "Epoch 30/30\n",
      "144/144 [==============================] - 156s 1s/step - loss: 0.0216 - accuracy: 0.9943 - val_loss: 0.3411 - val_accuracy: 0.9194\n"
     ]
    },
    {
     "data": {
      "text/plain": [
       "<tensorflow.python.keras.callbacks.History at 0x1ee77316a48>"
      ]
     },
     "execution_count": 66,
     "metadata": {},
     "output_type": "execute_result"
    }
   ],
   "source": [
    "age_model.fit_generator(\n",
    "    train_generator,\n",
    "    steps_per_epoch=images_number_train // batch_size,\n",
    "    epochs=epochs,\n",
    "    validation_data=valid_generator,\n",
    "    validation_steps = images_number_valid // batch_size)"
   ]
  },
  {
   "cell_type": "code",
   "execution_count": 15,
   "metadata": {},
   "outputs": [
    {
     "name": "stdout",
     "output_type": "stream",
     "text": [
      "WARNING:tensorflow:sample_weight modes were coerced from\n",
      "  ...\n",
      "    to  \n",
      "  ['...']\n"
     ]
    }
   ],
   "source": [
    "scores_age = age_model.evaluate_generator(test_generator, images_number_test // batch_size)"
   ]
  },
  {
   "cell_type": "code",
   "execution_count": 1,
   "metadata": {},
   "outputs": [
    {
     "ename": "NameError",
     "evalue": "name 'scores_age' is not defined",
     "output_type": "error",
     "traceback": [
      "\u001b[1;31m---------------------------------------------------------------------------\u001b[0m",
      "\u001b[1;31mNameError\u001b[0m                                 Traceback (most recent call last)",
      "\u001b[1;32m<ipython-input-1-0ebe160b4ec5>\u001b[0m in \u001b[0;36m<module>\u001b[1;34m\u001b[0m\n\u001b[1;32m----> 1\u001b[1;33m \u001b[0mprint\u001b[0m\u001b[1;33m(\u001b[0m\u001b[1;34m\"Точность модели на тестовых данных: %.2f%%\"\u001b[0m \u001b[1;33m%\u001b[0m \u001b[1;33m(\u001b[0m\u001b[0mscores_age\u001b[0m\u001b[1;33m[\u001b[0m\u001b[1;36m1\u001b[0m\u001b[1;33m]\u001b[0m\u001b[1;33m*\u001b[0m\u001b[1;36m100\u001b[0m\u001b[1;33m)\u001b[0m\u001b[1;33m)\u001b[0m\u001b[1;33m\u001b[0m\u001b[1;33m\u001b[0m\u001b[0m\n\u001b[0m",
      "\u001b[1;31mNameError\u001b[0m: name 'scores_age' is not defined"
     ]
    }
   ],
   "source": [
    "print(\"Точность модели на тестовых данных: %.2f%%\" % (scores_age[1]*100))"
   ]
  },
  {
   "cell_type": "code",
   "execution_count": 69,
   "metadata": {},
   "outputs": [],
   "source": [
    "age_model.save('Age_category_recognition.h5')"
   ]
  },
  {
   "cell_type": "code",
   "execution_count": null,
   "metadata": {},
   "outputs": [],
   "source": [
    "\n",
    "age_model.compile(loss='categorical_crossentropy',\n",
    "              optimizer='SGD',\n",
    "              metrics=['accuracy'])\n",
    "\n",
    "datagen = ImageDataGenerator(rescale=1. / 255)\n",
    "\n",
    "train_generator = datagen.flow_from_directory(\n",
    "    train_dir,\n",
    "    target_size=(img_width, img_height),\n",
    "    batch_size=batch_size,\n",
    "    class_mode='categorical')\n",
    "\n",
    "valid_generator = datagen.flow_from_directory(\n",
    "    valid_dir,\n",
    "    target_size=(img_width, img_height),\n",
    "    batch_size=batch_size,\n",
    "    class_mode='categorical')\n",
    "\n",
    "test_generator = datagen.flow_from_directory(\n",
    "    test_dir,\n",
    "    target_size=(img_width, img_height),\n",
    "    batch_size=batch_size,\n",
    "    class_mode='categorical')\n",
    "\n",
    "age_model.fit_generator(\n",
    "    train_generator,\n",
    "    steps_per_epoch=images_number_train // batch_size,\n",
    "    epochs=epochs,\n",
    "    validation_data=valid_generator,\n",
    "    validation_steps = images_number_valid // batch_size)\n",
    "\n",
    "scores = age_model.evaluate_generator(test_generator, images_number_test // batch_size)\n",
    "age_model.save('Age_category_recognition.h5')\n",
    "\n",
    "print(\"Точность модели на тестовых данных: %.2f%%\" % (scores_age[1]*100))"
   ]
  }
 ],
 "metadata": {
  "kernelspec": {
   "display_name": "Python 3",
   "language": "python",
   "name": "python3"
  },
  "language_info": {
   "codemirror_mode": {
    "name": "ipython",
    "version": 3
   },
   "file_extension": ".py",
   "mimetype": "text/x-python",
   "name": "python",
   "nbconvert_exporter": "python",
   "pygments_lexer": "ipython3",
   "version": "3.7.4"
  }
 },
 "nbformat": 4,
 "nbformat_minor": 2
}
