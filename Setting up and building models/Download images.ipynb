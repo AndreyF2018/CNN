{
 "cells": [
  {
   "cell_type": "code",
   "execution_count": 23,
   "metadata": {},
   "outputs": [],
   "source": [
    "import webbrowser\n",
    "import os\n",
    "import time\n",
    "import shutil\n",
    "\n",
    "def DownloadImages(quantity):\n",
    "    i = 100\n",
    "    #i = 182\n",
    "    for j in range (quantity):\n",
    "        webbrowser.open('https://thispersondoesnotexist.com/image')\n",
    "        time.sleep(1.9) \n",
    "        os.rename(os.path.join(\"C:\\\\Users\\\\Admin\\\\Downloads\\\\Humans\", \"image\"), \n",
    "                  os.path.join(\"C:\\\\Users\\\\Admin\\\\Downloads\\\\Humans\", \"image\" + \" \" + str(i) + \".jpg\"))\n",
    "        shutil.move(\"C:\\\\Users\\\\Admin\\\\Downloads\\\\Humans\\\\image\" + \" \" + str(i) + \".jpg\", \"C:\\\\Diplom\\\\Humans\")\n",
    "        i = i + 1\n",
    "\n",
    "def RenameImages(directory):\n",
    "    i = 1\n",
    "    gender = directory[:-1:]\n",
    "    for filename in os.listdir(\"C:\\\\Diplom\\\\Humans\\\\\" + str(directory)):\n",
    "        dst = gender + \" \" + str(i) + \".jpg\"\n",
    "        src ='C:\\\\Diplom\\\\Humans\\\\' +  str(directory) + '\\\\' + filename\n",
    "        dst ='C:\\\\Diplom\\\\Humans\\\\' +  str(directory) + '\\\\'+ dst\n",
    "        os.rename(src, dst)\n",
    "        i += 1\n",
    "\n",
    "RenameImages (\"Adults\")\n",
    "#DownloadImages (50)\n",
    "\n",
    "\n",
    "\n"
   ]
  },
  {
   "cell_type": "code",
   "execution_count": null,
   "metadata": {},
   "outputs": [],
   "source": [
    "#os.rename(\"C:\\\\Users\\\\Admin\\\\Downloads\\\\Humans\\\\image\",\"C:\\\\Users\\\\Admin\\\\Downloads\\\\Humans\\\\image\" + \" \" + str(i) + \".jpg\")"
   ]
  }
 ],
 "metadata": {
  "kernelspec": {
   "display_name": "Python 3",
   "language": "python",
   "name": "python3"
  },
  "language_info": {
   "codemirror_mode": {
    "name": "ipython",
    "version": 3
   },
   "file_extension": ".py",
   "mimetype": "text/x-python",
   "name": "python",
   "nbconvert_exporter": "python",
   "pygments_lexer": "ipython3",
   "version": "3.7.4"
  }
 },
 "nbformat": 4,
 "nbformat_minor": 2
}
