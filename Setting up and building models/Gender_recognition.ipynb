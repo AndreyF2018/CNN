{
 "cells": [
  {
   "cell_type": "code",
   "execution_count": 1,
   "metadata": {},
   "outputs": [],
   "source": [
    "from tensorflow.python.keras.preprocessing.image import ImageDataGenerator\n",
    "from tensorflow.python.keras.models import Sequential\n",
    "from tensorflow.python.keras.layers import Conv2D, MaxPooling2D\n",
    "from tensorflow.python.keras.layers import Activation, Dropout, Flatten, Dense, BatchNormalization\n"
   ]
  },
  {
   "cell_type": "code",
   "execution_count": 2,
   "metadata": {},
   "outputs": [],
   "source": [
    "train_dir = 'train_gender' # директория с данными для обучения\n",
    "valid_dir = 'valid_gender' # директория с данными для проверки\n",
    "test_dir = 'test_gender' # директория с данными для тестирования\n",
    "# Размеры изображения\n",
    "img_width, img_height = 150, 150\n",
    "# Размерность тензора на основе изображения для входных данных в нейронную сеть\n",
    "input_shape = (img_width, img_height, 3)\n",
    "epochs = 30 # количество эпох\n",
    "# Размер мини-выборки\n",
    "batch_size = 16\n",
    "# Количество изображений для обучения\n",
    "images_number_train = 4898 #!поменять в зависимости от кол-ва!\n",
    "# Количество изображений для проверки\n",
    "images_number_valid = 1049 #!поменять в зависимости от кол-ва!\n",
    "# Количество изображений для тестирования\n",
    "images_number_test = 1051 #!поменять в зависимости от кол-ва!"
   ]
  },
  {
   "cell_type": "code",
   "execution_count": 3,
   "metadata": {},
   "outputs": [],
   "source": [
    "# Архитектура модели определения пола\n",
    "gender_model = Sequential()\n",
    "\n",
    "gender_model.add(Conv2D(32, (3, 3), input_shape=input_shape))\n",
    "gender_model.add(Activation('relu'))\n",
    "gender_model.add(BatchNormalization())\n",
    "gender_model.add(MaxPooling2D(pool_size=(2, 2)))\n",
    "gender_model.add(Dropout(0.2))\n",
    "\n",
    "gender_model.add(Conv2D(64, (3, 3)))\n",
    "gender_model.add(Activation('relu'))\n",
    "gender_model.add(BatchNormalization())\n",
    "gender_model.add(MaxPooling2D(pool_size=(2, 2)))\n",
    "gender_model.add(Dropout(0.2))\n",
    "\n",
    "gender_model.add(Conv2D(128, (3, 3)))\n",
    "gender_model.add(Activation('relu'))\n",
    "gender_model.add(BatchNormalization())\n",
    "gender_model.add(MaxPooling2D(pool_size=(2, 2)))\n",
    "gender_model.add(Dropout(0.2))\n",
    "\n",
    "gender_model.add(Flatten())\n",
    "gender_model.add(Dense(128))\n",
    "gender_model.add(Activation('relu'))\n",
    "gender_model.add(BatchNormalization())\n",
    "gender_model.add(Dropout(0.5))\n",
    "gender_model.add(Dense(1))\n",
    "gender_model.add(Activation('sigmoid'))"
   ]
  },
  {
   "cell_type": "code",
   "execution_count": 4,
   "metadata": {},
   "outputs": [],
   "source": [
    "\n",
    "gender_model.compile(loss='binary_crossentropy',\n",
    "              optimizer='adam',\n",
    "              metrics=['accuracy'])"
   ]
  },
  {
   "cell_type": "code",
   "execution_count": 7,
   "metadata": {},
   "outputs": [],
   "source": [
    "datagen = ImageDataGenerator(rescale=1. / 255)"
   ]
  },
  {
   "cell_type": "code",
   "execution_count": 9,
   "metadata": {},
   "outputs": [
    {
     "name": "stdout",
     "output_type": "stream",
     "text": [
      "Found 4898 images belonging to 2 classes.\n"
     ]
    }
   ],
   "source": [
    "train_generator = datagen.flow_from_directory(\n",
    "    train_dir,\n",
    "    target_size=(img_width, img_height),\n",
    "    batch_size=batch_size,\n",
    "    classes = ['Females', 'Males'],\n",
    "    class_mode='binary')"
   ]
  },
  {
   "cell_type": "code",
   "execution_count": 9,
   "metadata": {},
   "outputs": [
    {
     "name": "stdout",
     "output_type": "stream",
     "text": [
      "Found 1049 images belonging to 2 classes.\n"
     ]
    }
   ],
   "source": [
    "valid_generator = datagen.flow_from_directory(\n",
    "    valid_dir,\n",
    "    target_size=(img_width, img_height),\n",
    "    batch_size = batch_size,\n",
    "    classes = ['Females', 'Males'],\n",
    "    class_mode='binary')"
   ]
  },
  {
   "cell_type": "code",
   "execution_count": 10,
   "metadata": {},
   "outputs": [
    {
     "name": "stdout",
     "output_type": "stream",
     "text": [
      "Found 1051 images belonging to 2 classes.\n"
     ]
    }
   ],
   "source": [
    "test_generator = datagen.flow_from_directory(\n",
    "    test_dir,\n",
    "    target_size=(img_width, img_height),\n",
    "    batch_size=batch_size,\n",
    "    classes = ['Females', 'Males'],\n",
    "    class_mode ='binary')"
   ]
  },
  {
   "cell_type": "code",
   "execution_count": 9,
   "metadata": {
    "scrolled": false
   },
   "outputs": [
    {
     "name": "stdout",
     "output_type": "stream",
     "text": [
      "WARNING:tensorflow:From <ipython-input-9-def31abff221>:6: Model.fit_generator (from tensorflow.python.keras.engine.training) is deprecated and will be removed in a future version.\n",
      "Instructions for updating:\n",
      "Please use Model.fit, which supports generators.\n",
      "WARNING:tensorflow:sample_weight modes were coerced from\n",
      "  ...\n",
      "    to  \n",
      "  ['...']\n",
      "WARNING:tensorflow:sample_weight modes were coerced from\n",
      "  ...\n",
      "    to  \n",
      "  ['...']\n",
      "Train for 306 steps, validate for 65 steps\n",
      "Epoch 1/30\n",
      "306/306 [==============================] - 845s 3s/step - loss: 0.4117 - accuracy: 0.8169 - val_loss: 0.2813 - val_accuracy: 0.9000\n",
      "Epoch 2/30\n",
      "306/306 [==============================] - 333s 1s/step - loss: 0.2455 - accuracy: 0.8996 - val_loss: 0.1554 - val_accuracy: 0.9337\n",
      "Epoch 3/30\n",
      "306/306 [==============================] - 334s 1s/step - loss: 0.1650 - accuracy: 0.9336 - val_loss: 0.1200 - val_accuracy: 0.9471\n",
      "Epoch 4/30\n",
      "306/306 [==============================] - 934s 3s/step - loss: 0.1313 - accuracy: 0.9474 - val_loss: 0.1175 - val_accuracy: 0.9462\n",
      "Epoch 5/30\n",
      "306/306 [==============================] - 340s 1s/step - loss: 0.1158 - accuracy: 0.9529 - val_loss: 0.1123 - val_accuracy: 0.9548\n",
      "Epoch 6/30\n",
      "306/306 [==============================] - 339s 1s/step - loss: 0.0985 - accuracy: 0.9586 - val_loss: 0.1181 - val_accuracy: 0.9519\n",
      "Epoch 7/30\n",
      "306/306 [==============================] - 353s 1s/step - loss: 0.0899 - accuracy: 0.9631 - val_loss: 0.1230 - val_accuracy: 0.9481\n",
      "Epoch 8/30\n",
      "306/306 [==============================] - 990s 3s/step - loss: 0.0673 - accuracy: 0.9760 - val_loss: 0.0910 - val_accuracy: 0.9615\n",
      "Epoch 9/30\n",
      "306/306 [==============================] - 1870s 6s/step - loss: 0.0621 - accuracy: 0.9771 - val_loss: 0.1015 - val_accuracy: 0.9596\n",
      "Epoch 10/30\n",
      "306/306 [==============================] - 2168s 7s/step - loss: 0.0575 - accuracy: 0.9787 - val_loss: 0.1135 - val_accuracy: 0.9538\n",
      "Epoch 11/30\n",
      "306/306 [==============================] - 482s 2s/step - loss: 0.0480 - accuracy: 0.9820 - val_loss: 0.1261 - val_accuracy: 0.9577\n",
      "Epoch 12/30\n",
      "306/306 [==============================] - 361s 1s/step - loss: 0.0433 - accuracy: 0.9826 - val_loss: 0.1058 - val_accuracy: 0.9587\n",
      "Epoch 13/30\n",
      "306/306 [==============================] - 352s 1s/step - loss: 0.0339 - accuracy: 0.9869 - val_loss: 0.1375 - val_accuracy: 0.9596\n",
      "Epoch 14/30\n",
      "306/306 [==============================] - 355s 1s/step - loss: 0.0358 - accuracy: 0.9869 - val_loss: 0.1509 - val_accuracy: 0.9567\n",
      "Epoch 15/30\n",
      "306/306 [==============================] - 354s 1s/step - loss: 0.0351 - accuracy: 0.9859 - val_loss: 0.1366 - val_accuracy: 0.9577\n",
      "Epoch 16/30\n",
      "306/306 [==============================] - 342s 1s/step - loss: 0.0286 - accuracy: 0.9887 - val_loss: 0.1416 - val_accuracy: 0.9606\n",
      "Epoch 17/30\n",
      "306/306 [==============================] - 354s 1s/step - loss: 0.0341 - accuracy: 0.9871 - val_loss: 0.1576 - val_accuracy: 0.9587\n",
      "Epoch 18/30\n",
      "306/306 [==============================] - 349s 1s/step - loss: 0.0217 - accuracy: 0.9918 - val_loss: 0.1353 - val_accuracy: 0.9596\n",
      "Epoch 19/30\n",
      "306/306 [==============================] - 345s 1s/step - loss: 0.0279 - accuracy: 0.9902 - val_loss: 0.2478 - val_accuracy: 0.9404\n",
      "Epoch 20/30\n",
      "306/306 [==============================] - 436s 1s/step - loss: 0.0250 - accuracy: 0.9896 - val_loss: 0.2586 - val_accuracy: 0.9423\n",
      "Epoch 21/30\n",
      "306/306 [==============================] - 471s 2s/step - loss: 0.0227 - accuracy: 0.9902 - val_loss: 0.1944 - val_accuracy: 0.9567\n",
      "Epoch 22/30\n",
      "306/306 [==============================] - 434s 1s/step - loss: 0.0311 - accuracy: 0.9893 - val_loss: 0.1534 - val_accuracy: 0.9606\n",
      "Epoch 23/30\n",
      "306/306 [==============================] - 458s 1s/step - loss: 0.0127 - accuracy: 0.9955 - val_loss: 0.1766 - val_accuracy: 0.9577\n",
      "Epoch 24/30\n",
      "306/306 [==============================] - 488s 2s/step - loss: 0.0287 - accuracy: 0.9887 - val_loss: 0.1134 - val_accuracy: 0.9596\n",
      "Epoch 25/30\n",
      "306/306 [==============================] - 457s 1s/step - loss: 0.0163 - accuracy: 0.9932 - val_loss: 0.1868 - val_accuracy: 0.9577\n",
      "Epoch 26/30\n",
      "306/306 [==============================] - 467s 2s/step - loss: 0.0225 - accuracy: 0.9908 - val_loss: 0.1837 - val_accuracy: 0.9577\n",
      "Epoch 27/30\n",
      "306/306 [==============================] - 487s 2s/step - loss: 0.0257 - accuracy: 0.9920 - val_loss: 0.2116 - val_accuracy: 0.9567\n",
      "Epoch 28/30\n",
      "306/306 [==============================] - 474s 2s/step - loss: 0.0254 - accuracy: 0.9922 - val_loss: 0.1945 - val_accuracy: 0.9558\n",
      "Epoch 29/30\n",
      "306/306 [==============================] - 482s 2s/step - loss: 0.0169 - accuracy: 0.9939 - val_loss: 0.2056 - val_accuracy: 0.9490\n",
      "Epoch 30/30\n",
      "306/306 [==============================] - 490s 2s/step - loss: 0.0102 - accuracy: 0.9953 - val_loss: 0.2541 - val_accuracy: 0.9500\n"
     ]
    },
    {
     "data": {
      "text/plain": [
       "<tensorflow.python.keras.callbacks.History at 0x28c4a080588>"
      ]
     },
     "execution_count": 9,
     "metadata": {},
     "output_type": "execute_result"
    }
   ],
   "source": [
    "gender_model.fit_generator(\n",
    "    train_generator,\n",
    "    steps_per_epoch=images_number_train // batch_size,\n",
    "    epochs=epochs,\n",
    "    validation_data=valid_generator,\n",
    "    validation_steps = images_number_valid // batch_size)"
   ]
  },
  {
   "cell_type": "code",
   "execution_count": 1,
   "metadata": {},
   "outputs": [
    {
     "ename": "NameError",
     "evalue": "name 'gender_model' is not defined",
     "output_type": "error",
     "traceback": [
      "\u001b[1;31m---------------------------------------------------------------------------\u001b[0m",
      "\u001b[1;31mNameError\u001b[0m                                 Traceback (most recent call last)",
      "\u001b[1;32m<ipython-input-1-8219d72c9f9f>\u001b[0m in \u001b[0;36m<module>\u001b[1;34m\u001b[0m\n\u001b[1;32m----> 1\u001b[1;33m \u001b[0mscores\u001b[0m \u001b[1;33m=\u001b[0m \u001b[0mgender_model\u001b[0m\u001b[1;33m.\u001b[0m\u001b[0mevaluate_generator\u001b[0m\u001b[1;33m(\u001b[0m\u001b[0mtest_generator\u001b[0m\u001b[1;33m,\u001b[0m \u001b[0mimages_number_test\u001b[0m \u001b[1;33m//\u001b[0m \u001b[0mbatch_size\u001b[0m\u001b[1;33m)\u001b[0m\u001b[1;33m\u001b[0m\u001b[1;33m\u001b[0m\u001b[0m\n\u001b[0m",
      "\u001b[1;31mNameError\u001b[0m: name 'gender_model' is not defined"
     ]
    }
   ],
   "source": [
    "scores_gender = gender_model.evaluate_generator(test_generator, images_number_test // batch_size)"
   ]
  },
  {
   "cell_type": "code",
   "execution_count": 14,
   "metadata": {},
   "outputs": [
    {
     "name": "stdout",
     "output_type": "stream",
     "text": [
      "Точность модели на тестовых данных: 95.58%\n"
     ]
    }
   ],
   "source": [
    "scores_gender = gender_model.evaluate_generator(test_generator,\n",
    "                            images_number_test // batch_size)\n",
    "print(\"Точность модели на тестовых данных: %.2f%%\" % (scores_gender[1]*100))"
   ]
  },
  {
   "cell_type": "code",
   "execution_count": 12,
   "metadata": {},
   "outputs": [],
   "source": [
    "gender_model.save('Gender_recognition.h5')"
   ]
  }
 ],
 "metadata": {
  "kernelspec": {
   "display_name": "Python 3",
   "language": "python",
   "name": "python3"
  },
  "language_info": {
   "codemirror_mode": {
    "name": "ipython",
    "version": 3
   },
   "file_extension": ".py",
   "mimetype": "text/x-python",
   "name": "python",
   "nbconvert_exporter": "python",
   "pygments_lexer": "ipython3",
   "version": "3.7.4"
  }
 },
 "nbformat": 4,
 "nbformat_minor": 2
}
