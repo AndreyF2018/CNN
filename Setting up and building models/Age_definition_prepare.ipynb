{
 "cells": [
  {
   "cell_type": "code",
   "execution_count": 14,
   "metadata": {},
   "outputs": [],
   "source": [
    "import shutil\n",
    "import os"
   ]
  },
  {
   "cell_type": "code",
   "execution_count": 15,
   "metadata": {},
   "outputs": [],
   "source": [
    "# Каталоги с набором данных\n",
    "train_dir = 'train_age' # директория с данными для обучения\n",
    "valid_dir = 'valid_age' # директория с данными для проверки\n",
    "test_dir = 'test_age' # директория с данными для тестирования\n",
    "test_data_portion = 0.15 # часть набора данных для тестирования\n",
    "valid_data_portion = 0.15 # часть набора данных для проверки\n",
    "# Количество элементов данных в одном классе\n",
    "img_quantity = 1104\n"
   ]
  },
  {
   "cell_type": "code",
   "execution_count": 16,
   "metadata": {},
   "outputs": [],
   "source": [
    "def CreateDirectory(dir_name):\n",
    "    if os.path.exists(dir_name):\n",
    "        shutil.rmtree(dir_name)\n",
    "    os.makedirs(dir_name)\n",
    "    os.makedirs(os.path.join(dir_name, \"Adults\"))\n",
    "    os.makedirs(os.path.join(dir_name, \"Childs\"))\n",
    "    os.makedirs(os.path.join(dir_name, \"Oldmans\"))"
   ]
  },
  {
   "cell_type": "code",
   "execution_count": 8,
   "metadata": {},
   "outputs": [],
   "source": [
    "CreateDirectory(train_dir)\n",
    "CreateDirectory(valid_dir)\n",
    "CreateDirectory(test_dir)"
   ]
  },
  {
   "cell_type": "code",
   "execution_count": 17,
   "metadata": {},
   "outputs": [],
   "source": [
    "def CopyImages(start_index, end_index, age_dir, dest_dir):\n",
    "    source_dir = \"C:\\\\Diplom\\\\Humans\\\\\" + age_dir\n",
    "    age = age_dir[:-1:]\n",
    "    for i in range(start_index, end_index):\n",
    "        shutil.copy2(os.path.join(source_dir, age + \" \" + str(i) + \".jpg\"),\n",
    "                     os.path.join(dest_dir, age_dir))\n"
   ]
  },
  {
   "cell_type": "code",
   "execution_count": 20,
   "metadata": {},
   "outputs": [],
   "source": [
    "def DistributionByIndex(age_dir): # gender_dir = “Adults” или “Childs” или \"Oldmans\"\n",
    "    if (age_dir == \"Adults\" or age_dir == \"Childs\" or age_dir == \"Oldmans\"):\n",
    "        start_index_valid = int(img_quantity * (1 - val_data_portion - test_data_portion))\n",
    "        start_index_test = int(img_quantity * (1 - test_data_portion))\n",
    "        \n",
    "        #Копирование изображений в обучающую выборку:\n",
    "        CopyImages(1, start_index_valid, age_dir, train_dir)\n",
    "        \n",
    "        #Копирование изображений в проверочную выборку:\n",
    "        CopyImages(start_index_valid, start_index_test, age_dir, valid_dir)\n",
    "        \n",
    "        #Копирование изображений в тестовую выборку:\n",
    "        CopyImages(start_index_test, img_quantity, age_dir, test_dir)\n",
    "    else:\n",
    "        raise ValueError(\"Only Adults, Childs or Oldmans\")\n",
    "    "
   ]
  },
  {
   "cell_type": "code",
   "execution_count": 22,
   "metadata": {},
   "outputs": [],
   "source": [
    "#DistributionByIndex(\"Adults\")\n",
    "#DistributionByIndex(\"Childs\")\n",
    "#DistributionByIndex(\"Oldmans\")"
   ]
  },
  {
   "cell_type": "code",
   "execution_count": null,
   "metadata": {},
   "outputs": [],
   "source": [
    "# Каталоги с набором данных\n",
    "train_dir = 'train_age' # директория с данными для обучения\n",
    "valid_dir = 'valid_age' # директория с данными для проверки\n",
    "test_dir = 'test_age' # директория с данными для тестирования\n",
    "test_data_portion = 0.15 # часть набора данных для тестирования\n",
    "valid_data_portion = 0.15 # часть набора данных для проверки\n",
    "# Количество элементов данных в одном классе\n",
    "img_quantity = 1104\n",
    "\n",
    "def CreateDirectory(dir_name):\n",
    "    if os.path.exists(dir_name):\n",
    "        shutil.rmtree(dir_name)\n",
    "    os.makedirs(dir_name)\n",
    "    os.makedirs(os.path.join(dir_name, \"Adults\"))\n",
    "    os.makedirs(os.path.join(dir_name, \"Childs\"))\n",
    "    os.makedirs(os.path.join(dir_name, \"Oldmans\"))\n",
    "    \n",
    "CreateDirectory(train_dir)\n",
    "CreateDirectory(valid_dir)\n",
    "CreateDirectory(test_dir)\n",
    "\n",
    "def CopyImages(start_index, end_index, age_dir, dest_dir):\n",
    "    source_dir = \"C:\\\\Diplom\\\\Humans\\\\\" + age_dir\n",
    "    age = age_dir[:-1:]\n",
    "    for i in range(start_index, end_index):\n",
    "        shutil.copy2(os.path.join(source_dir, age + \" \" + str(i) + \".jpg\"),\n",
    "                     os.path.join(dest_dir, age_dir))\n",
    "        \n",
    "def DistributionByIndex(age_dir): # gender_dir = “Adults” или “Childs” или \"Oldmans\"\n",
    "    if (age_dir == \"Adults\" or age_dir == \"Childs\" or age_dir == \"Oldmans\"):\n",
    "        start_index_valid = int(img_quantity * (1 - val_data_portion - test_data_portion))\n",
    "        start_index_test = int(img_quantity * (1 - test_data_portion))\n",
    "        \n",
    "        #Копирование изображений в обучающую выборку:\n",
    "        CopyImages(1, start_index_valid, age_dir, train_dir)\n",
    "        \n",
    "        #Копирование изображений в проверочную выборку:\n",
    "        CopyImages(start_index_valid, start_index_test, age_dir, valid_dir)\n",
    "        \n",
    "        #Копирование изображений в тестовую выборку:\n",
    "        CopyImages(start_index_test, img_quantity, age_dir, test_dir)\n",
    "    else:\n",
    "        raise ValueError(\"Only Adults, Childs or Oldmans\")\n",
    "\n",
    "DistributionByIndex(\"Adults\")\n",
    "DistributionByIndex(\"Childs\")\n",
    "DistributionByIndex(\"Oldmans\")"
   ]
  }
 ],
 "metadata": {
  "kernelspec": {
   "display_name": "Python 3",
   "language": "python",
   "name": "python3"
  },
  "language_info": {
   "codemirror_mode": {
    "name": "ipython",
    "version": 3
   },
   "file_extension": ".py",
   "mimetype": "text/x-python",
   "name": "python",
   "nbconvert_exporter": "python",
   "pygments_lexer": "ipython3",
   "version": "3.7.4"
  }
 },
 "nbformat": 4,
 "nbformat_minor": 2
}
